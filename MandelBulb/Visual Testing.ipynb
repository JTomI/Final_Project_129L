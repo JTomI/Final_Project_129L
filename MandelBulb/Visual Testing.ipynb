{
 "cells": [
  {
   "cell_type": "code",
   "execution_count": 2,
   "metadata": {},
   "outputs": [
    {
     "name": "stdout",
     "output_type": "stream",
     "text": [
      "Checkpoint Passed\n"
     ]
    }
   ],
   "source": [
    "# %matplotlib qt5\n",
    "import time\n",
    "from film import Cinematic\n",
    "from bulb import Bulb\n",
    "print('Checkpoint Passed')\n",
    "import os\n",
    "import numpy as np\n",
    "import PIL\n",
    "from joblib import Parallel, delayed\n",
    "import matplotlib.pyplot as plt\n",
    "from tqdm.notebook import tqdm\n",
    "import multiprocessing as mp"
   ]
  },
  {
   "cell_type": "code",
   "execution_count": 3,
   "metadata": {},
   "outputs": [
    {
     "name": "stdout",
     "output_type": "stream",
     "text": [
      "Time Elapsed: 8.893013000488281e-05\n"
     ]
    }
   ],
   "source": [
    "# New class instance\n",
    "start = time.time()\n",
    "bulb = Bulb(imsize = 1000,max_steps=50) #imsize is equivalent to image resolution\n",
    "print('Time Elapsed: {}'.format(time.time()-start))"
   ]
  },
  {
   "cell_type": "code",
   "execution_count": 4,
   "metadata": {
    "scrolled": false
   },
   "outputs": [
    {
     "name": "stdout",
     "output_type": "stream",
     "text": [
      "Time Elapsed: 74.66148400306702\n"
     ]
    },
    {
     "data": {
      "text/plain": [
       "0"
      ]
     },
     "execution_count": 4,
     "metadata": {},
     "output_type": "execute_result"
    }
   ],
   "source": [
    "# Make single frame\n",
    "start = time.time()\n",
    "bulb.bulb_image(degree=8,observer_position=np.array([1., 1., 4.]),counter=0)\n",
    "print('Time Elapsed: {}'.format(time.time()-start))\n",
    "os.system('open frames/frame{}.png'.format(0))"
   ]
  },
  {
   "cell_type": "code",
   "execution_count": 7,
   "metadata": {},
   "outputs": [
    {
     "name": "stdout",
     "output_type": "stream",
     "text": [
      "Time Elapsed: 9.274482727050781e-05\n"
     ]
    }
   ],
   "source": [
    "# New class instance\n",
    "start = time.time()\n",
    "bulb = Bulb(imsize = 1000,max_steps=20) #imsize is equivalent to image resolution\n",
    "print('Time Elapsed: {}'.format(time.time()-start))"
   ]
  },
  {
   "cell_type": "code",
   "execution_count": 8,
   "metadata": {},
   "outputs": [
    {
     "name": "stdout",
     "output_type": "stream",
     "text": [
      "Time Elapsed: 24.580578088760376\n"
     ]
    },
    {
     "data": {
      "text/plain": [
       "0"
      ]
     },
     "execution_count": 8,
     "metadata": {},
     "output_type": "execute_result"
    }
   ],
   "source": [
    "# Make single frame\n",
    "start = time.time()\n",
    "bulb.bulb_image(degree=8,observer_position=np.array([1., 1., 4.]),counter=1)\n",
    "print('Time Elapsed: {}'.format(time.time()-start))\n",
    "os.system('open frames/frame{}.png'.format(1))"
   ]
  },
  {
   "cell_type": "code",
   "execution_count": 9,
   "metadata": {},
   "outputs": [
    {
     "name": "stdout",
     "output_type": "stream",
     "text": [
      "Time Elapsed: 9.703636169433594e-05\n"
     ]
    }
   ],
   "source": [
    "# New class instance\n",
    "start = time.time()\n",
    "bulb = Bulb(imsize = 1000,max_steps=100) #imsize is equivalent to image resolution\n",
    "print('Time Elapsed: {}'.format(time.time()-start))"
   ]
  },
  {
   "cell_type": "code",
   "execution_count": 10,
   "metadata": {},
   "outputs": [
    {
     "name": "stdout",
     "output_type": "stream",
     "text": [
      "Time Elapsed: 147.22638487815857\n"
     ]
    },
    {
     "data": {
      "text/plain": [
       "0"
      ]
     },
     "execution_count": 10,
     "metadata": {},
     "output_type": "execute_result"
    }
   ],
   "source": [
    "# Make single frame\n",
    "start = time.time()\n",
    "bulb.bulb_image(degree=8,observer_position=np.array([1., 1., 4.]),counter=2)\n",
    "print('Time Elapsed: {}'.format(time.time()-start))\n",
    "os.system('open frames/frame{}.png'.format(2))"
   ]
  },
  {
   "cell_type": "code",
   "execution_count": null,
   "metadata": {
    "scrolled": true
   },
   "outputs": [
    {
     "name": "stderr",
     "output_type": "stream",
     "text": [
      "\r",
      " :: Generating Frames ::   0%|          | 0/200 [00:00<?, ?it/s]"
     ]
    },
    {
     "name": "stdout",
     "output_type": "stream",
     "text": [
      " :: Setting Up View Points :: \n"
     ]
    },
    {
     "name": "stderr",
     "output_type": "stream",
     "text": [
      " :: Generating Frames :: 100%|██████████| 200/200 [01:48<00:00,  1.84it/s]\n"
     ]
    }
   ],
   "source": [
    "# Open single frame\n",
    "\n",
    "# movie = Cinematic(res = 200, movie_length = 10, views=True)\n",
    "# movie.stitch()"
   ]
  },
  {
   "cell_type": "markdown",
   "metadata": {},
   "source": [
    "# Testing on res=100, movie_length=2,  views=True\n",
    "- Original: 3:27\n",
    "- After rearrangement: 3:26\n",
    "- After Parllelization of gen_frames for loop:  00:57  hell yeah!\n",
    "- res=200, movie_length=2,  views=True after Parallelization: 1:33"
   ]
  }
 ],
 "metadata": {
  "kernelspec": {
   "display_name": "Python 3",
   "language": "python",
   "name": "python3"
  },
  "language_info": {
   "codemirror_mode": {
    "name": "ipython",
    "version": 3
   },
   "file_extension": ".py",
   "mimetype": "text/x-python",
   "name": "python",
   "nbconvert_exporter": "python",
   "pygments_lexer": "ipython3",
   "version": "3.7.0"
  }
 },
 "nbformat": 4,
 "nbformat_minor": 4
}
